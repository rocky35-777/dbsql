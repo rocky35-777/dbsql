{
 "cells": [
  {
   "metadata": {
    "ExecuteTime": {
     "end_time": "2025-05-12T06:09:51.846899Z",
     "start_time": "2025-05-12T06:09:51.763267Z"
    }
   },
   "cell_type": "code",
   "source": [
    "from pymongo import MongoClient\n",
    "\n",
    "client = MongoClient('mongodb://localhost:27017/')\n",
    "client"
   ],
   "id": "22d1b7c8e1c1238c",
   "outputs": [
    {
     "data": {
      "text/plain": [
       "MongoClient(host=['localhost:27017'], document_class=dict, tz_aware=False, connect=True)"
      ]
     },
     "execution_count": 1,
     "metadata": {},
     "output_type": "execute_result"
    }
   ],
   "execution_count": 1
  },
  {
   "metadata": {
    "ExecuteTime": {
     "end_time": "2025-05-12T06:11:22.405361Z",
     "start_time": "2025-05-12T06:11:22.398277Z"
    }
   },
   "cell_type": "code",
   "source": [
    "db = client['example_db']\n",
    "db"
   ],
   "id": "db95bd8bbcf57927",
   "outputs": [
    {
     "data": {
      "text/plain": [
       "Database(MongoClient(host=['localhost:27017'], document_class=dict, tz_aware=False, connect=True), 'example_db')"
      ]
     },
     "execution_count": 2,
     "metadata": {},
     "output_type": "execute_result"
    }
   ],
   "execution_count": 2
  },
  {
   "metadata": {
    "ExecuteTime": {
     "end_time": "2025-05-12T06:34:24.361992Z",
     "start_time": "2025-05-12T06:34:24.318375Z"
    }
   },
   "cell_type": "code",
   "source": [
    "collection = db['example_collection']\n",
    "\n",
    "example_document = {\"name\":\"John\", \"age\":30, \"city\":\"New York\"}\n",
    "collection.insert_one(example_document)"
   ],
   "id": "7713b248ad222d78",
   "outputs": [
    {
     "data": {
      "text/plain": [
       "InsertOneResult(ObjectId('68219670913e67a6269c3533'), acknowledged=True)"
      ]
     },
     "execution_count": 3,
     "metadata": {},
     "output_type": "execute_result"
    }
   ],
   "execution_count": 3
  },
  {
   "metadata": {
    "ExecuteTime": {
     "end_time": "2025-05-12T06:36:14.781567Z",
     "start_time": "2025-05-12T06:36:14.776180Z"
    }
   },
   "cell_type": "code",
   "source": [
    "# 모든 문서 조회\n",
    "for doc in collection.find():\n",
    "    print(doc)"
   ],
   "id": "3c31871aed166515",
   "outputs": [
    {
     "name": "stdout",
     "output_type": "stream",
     "text": [
      "{'_id': ObjectId('68219670913e67a6269c3533'), 'name': 'John', 'age': 30, 'city': 'New York'}\n"
     ]
    }
   ],
   "execution_count": 4
  },
  {
   "metadata": {
    "ExecuteTime": {
     "end_time": "2025-05-12T06:37:13.048268Z",
     "start_time": "2025-05-12T06:37:13.036236Z"
    }
   },
   "cell_type": "code",
   "source": [
    "# 조건에 맞는 문서 조회\n",
    "query = {\"name\":\"John\"}\n",
    "for doc in collection.find(query):\n",
    "    print(doc)"
   ],
   "id": "30bdc4f11bdadb6d",
   "outputs": [
    {
     "name": "stdout",
     "output_type": "stream",
     "text": [
      "{'_id': ObjectId('68219670913e67a6269c3533'), 'name': 'John', 'age': 30, 'city': 'New York'}\n"
     ]
    }
   ],
   "execution_count": 5
  },
  {
   "metadata": {
    "ExecuteTime": {
     "end_time": "2025-05-12T06:40:17.739738Z",
     "start_time": "2025-05-12T06:40:17.732125Z"
    }
   },
   "cell_type": "code",
   "source": [
    "# 문서 업데이트 문자열로 해주기!\n",
    "collection.update_many({\"name\":\"John\"}, {\"$set\":{\"age\" : 32}})\n",
    "\n",
    "for data in collection.find():\n",
    "    print(data)"
   ],
   "id": "96e54e21ec992c8",
   "outputs": [
    {
     "name": "stdout",
     "output_type": "stream",
     "text": [
      "{'_id': ObjectId('68219670913e67a6269c3533'), 'name': 'John', 'age': 32, 'city': 'New York'}\n"
     ]
    }
   ],
   "execution_count": 10
  },
  {
   "metadata": {
    "ExecuteTime": {
     "end_time": "2025-05-12T06:39:48.226326Z",
     "start_time": "2025-05-12T06:39:48.224406Z"
    }
   },
   "cell_type": "code",
   "source": "",
   "id": "962ac01ea1f71bd0",
   "outputs": [],
   "execution_count": null
  },
  {
   "metadata": {},
   "cell_type": "code",
   "outputs": [],
   "execution_count": null,
   "source": "",
   "id": "6a7ea6579cf8d594"
  }
 ],
 "metadata": {},
 "nbformat": 4,
 "nbformat_minor": 5
}
