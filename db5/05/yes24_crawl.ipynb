{
 "cells": [
  {
   "metadata": {},
   "cell_type": "markdown",
   "source": "YES24 크롤링",
   "id": "497663e70629d3fa"
  },
  {
   "metadata": {
    "ExecuteTime": {
     "end_time": "2025-05-09T01:08:29.440402Z",
     "start_time": "2025-05-09T01:08:29.094174Z"
    }
   },
   "cell_type": "code",
   "source": [
    "# webdriver_manager 불러오기\n",
    "from webdriver_manager.chrome import ChromeDriverManager\n",
    "ChromeDriverManager().install()\n"
   ],
   "id": "4d6e5a617a0f17f9",
   "outputs": [
    {
     "data": {
      "text/plain": [
       "'/Users/sei/.wdm/drivers/chromedriver/mac64/136.0.7103.92/chromedriver-mac-arm64/chromedriver'"
      ]
     },
     "execution_count": 56,
     "metadata": {},
     "output_type": "execute_result"
    }
   ],
   "execution_count": 56
  },
  {
   "metadata": {
    "ExecuteTime": {
     "end_time": "2025-05-09T01:08:33.311638Z",
     "start_time": "2025-05-09T01:08:31.673565Z"
    }
   },
   "cell_type": "code",
   "source": [
    "from selenium import webdriver\n",
    "browser = webdriver.Chrome()\n",
    "\n"
   ],
   "id": "df431b6ba182227",
   "outputs": [],
   "execution_count": 57
  },
  {
   "metadata": {
    "ExecuteTime": {
     "end_time": "2025-05-09T01:08:08.586778Z",
     "start_time": "2025-05-09T01:06:56.969644Z"
    }
   },
   "cell_type": "code",
   "source": "?\n",
   "id": "79f8c359cd785346",
   "outputs": [],
   "execution_count": 46
  },
  {
   "metadata": {
    "ExecuteTime": {
     "end_time": "2025-05-09T01:08:47.574843Z",
     "start_time": "2025-05-09T01:08:47.510246Z"
    }
   },
   "cell_type": "code",
   "source": [
    "from selenium.webdriver.common.by import By\n",
    "browser.find_element(By.CLASS_NAME, 'uU7dJb').text"
   ],
   "id": "7b1332e2fca03d3",
   "outputs": [
    {
     "ename": "NoSuchElementException",
     "evalue": "Message: no such element: Unable to locate element: {\"method\":\"css selector\",\"selector\":\".uU7dJb\"}\n  (Session info: chrome=136.0.7103.93); For documentation on this error, please visit: https://www.selenium.dev/documentation/webdriver/troubleshooting/errors#no-such-element-exception\nStacktrace:\n0   chromedriver                        0x0000000100f283bc cxxbridge1$str$ptr + 2829900\n1   chromedriver                        0x0000000100f20684 cxxbridge1$str$ptr + 2797844\n2   chromedriver                        0x0000000100a5dfbc cxxbridge1$string$len + 90140\n3   chromedriver                        0x0000000100aa51bc cxxbridge1$string$len + 381468\n4   chromedriver                        0x0000000100ae6044 cxxbridge1$string$len + 647332\n5   chromedriver                        0x0000000100a993f8 cxxbridge1$string$len + 332888\n6   chromedriver                        0x0000000100eec7e0 cxxbridge1$str$ptr + 2585200\n7   chromedriver                        0x0000000100eefab0 cxxbridge1$str$ptr + 2598208\n8   chromedriver                        0x0000000100ecddb4 cxxbridge1$str$ptr + 2459716\n9   chromedriver                        0x0000000100ef0328 cxxbridge1$str$ptr + 2600376\n10  chromedriver                        0x0000000100ebf640 cxxbridge1$str$ptr + 2400464\n11  chromedriver                        0x0000000100f1028c cxxbridge1$str$ptr + 2731292\n12  chromedriver                        0x0000000100f10418 cxxbridge1$str$ptr + 2731688\n13  chromedriver                        0x0000000100f202d0 cxxbridge1$str$ptr + 2796896\n14  libsystem_pthread.dylib             0x00000001897042e4 _pthread_start + 136\n15  libsystem_pthread.dylib             0x00000001896ff0fc thread_start + 8\n",
     "output_type": "error",
     "traceback": [
      "\u001B[31m---------------------------------------------------------------------------\u001B[39m",
      "\u001B[31mNoSuchElementException\u001B[39m                    Traceback (most recent call last)",
      "\u001B[36mCell\u001B[39m\u001B[36m \u001B[39m\u001B[32mIn[58]\u001B[39m\u001B[32m, line 2\u001B[39m\n\u001B[32m      1\u001B[39m \u001B[38;5;28;01mfrom\u001B[39;00m\u001B[38;5;250m \u001B[39m\u001B[34;01mselenium\u001B[39;00m\u001B[34;01m.\u001B[39;00m\u001B[34;01mwebdriver\u001B[39;00m\u001B[34;01m.\u001B[39;00m\u001B[34;01mcommon\u001B[39;00m\u001B[34;01m.\u001B[39;00m\u001B[34;01mby\u001B[39;00m\u001B[38;5;250m \u001B[39m\u001B[38;5;28;01mimport\u001B[39;00m By\n\u001B[32m----> \u001B[39m\u001B[32m2\u001B[39m \u001B[43mbrowser\u001B[49m\u001B[43m.\u001B[49m\u001B[43mfind_element\u001B[49m\u001B[43m(\u001B[49m\u001B[43mBy\u001B[49m\u001B[43m.\u001B[49m\u001B[43mCLASS_NAME\u001B[49m\u001B[43m,\u001B[49m\u001B[43m \u001B[49m\u001B[33;43m'\u001B[39;49m\u001B[33;43muU7dJb\u001B[39;49m\u001B[33;43m'\u001B[39;49m\u001B[43m)\u001B[49m.text\n",
      "\u001B[36mFile \u001B[39m\u001B[32m~/Desktop/dbsql/db5/.venv/lib/python3.13/site-packages/selenium/webdriver/remote/webdriver.py:917\u001B[39m, in \u001B[36mWebDriver.find_element\u001B[39m\u001B[34m(self, by, value)\u001B[39m\n\u001B[32m    914\u001B[39m         \u001B[38;5;28;01mraise\u001B[39;00m NoSuchElementException(\u001B[33mf\u001B[39m\u001B[33m\"\u001B[39m\u001B[33mCannot locate relative element with: \u001B[39m\u001B[38;5;132;01m{\u001B[39;00mby.root\u001B[38;5;132;01m}\u001B[39;00m\u001B[33m\"\u001B[39m)\n\u001B[32m    915\u001B[39m     \u001B[38;5;28;01mreturn\u001B[39;00m elements[\u001B[32m0\u001B[39m]\n\u001B[32m--> \u001B[39m\u001B[32m917\u001B[39m \u001B[38;5;28;01mreturn\u001B[39;00m \u001B[38;5;28;43mself\u001B[39;49m\u001B[43m.\u001B[49m\u001B[43mexecute\u001B[49m\u001B[43m(\u001B[49m\u001B[43mCommand\u001B[49m\u001B[43m.\u001B[49m\u001B[43mFIND_ELEMENT\u001B[49m\u001B[43m,\u001B[49m\u001B[43m \u001B[49m\u001B[43m{\u001B[49m\u001B[33;43m\"\u001B[39;49m\u001B[33;43musing\u001B[39;49m\u001B[33;43m\"\u001B[39;49m\u001B[43m:\u001B[49m\u001B[43m \u001B[49m\u001B[43mby\u001B[49m\u001B[43m,\u001B[49m\u001B[43m \u001B[49m\u001B[33;43m\"\u001B[39;49m\u001B[33;43mvalue\u001B[39;49m\u001B[33;43m\"\u001B[39;49m\u001B[43m:\u001B[49m\u001B[43m \u001B[49m\u001B[43mvalue\u001B[49m\u001B[43m}\u001B[49m\u001B[43m)\u001B[49m[\u001B[33m\"\u001B[39m\u001B[33mvalue\u001B[39m\u001B[33m\"\u001B[39m]\n",
      "\u001B[36mFile \u001B[39m\u001B[32m~/Desktop/dbsql/db5/.venv/lib/python3.13/site-packages/selenium/webdriver/remote/webdriver.py:448\u001B[39m, in \u001B[36mWebDriver.execute\u001B[39m\u001B[34m(self, driver_command, params)\u001B[39m\n\u001B[32m    446\u001B[39m response = \u001B[38;5;28mself\u001B[39m.command_executor.execute(driver_command, params)\n\u001B[32m    447\u001B[39m \u001B[38;5;28;01mif\u001B[39;00m response:\n\u001B[32m--> \u001B[39m\u001B[32m448\u001B[39m     \u001B[38;5;28;43mself\u001B[39;49m\u001B[43m.\u001B[49m\u001B[43merror_handler\u001B[49m\u001B[43m.\u001B[49m\u001B[43mcheck_response\u001B[49m\u001B[43m(\u001B[49m\u001B[43mresponse\u001B[49m\u001B[43m)\u001B[49m\n\u001B[32m    449\u001B[39m     response[\u001B[33m\"\u001B[39m\u001B[33mvalue\u001B[39m\u001B[33m\"\u001B[39m] = \u001B[38;5;28mself\u001B[39m._unwrap_value(response.get(\u001B[33m\"\u001B[39m\u001B[33mvalue\u001B[39m\u001B[33m\"\u001B[39m, \u001B[38;5;28;01mNone\u001B[39;00m))\n\u001B[32m    450\u001B[39m     \u001B[38;5;28;01mreturn\u001B[39;00m response\n",
      "\u001B[36mFile \u001B[39m\u001B[32m~/Desktop/dbsql/db5/.venv/lib/python3.13/site-packages/selenium/webdriver/remote/errorhandler.py:232\u001B[39m, in \u001B[36mErrorHandler.check_response\u001B[39m\u001B[34m(self, response)\u001B[39m\n\u001B[32m    230\u001B[39m         alert_text = value[\u001B[33m\"\u001B[39m\u001B[33malert\u001B[39m\u001B[33m\"\u001B[39m].get(\u001B[33m\"\u001B[39m\u001B[33mtext\u001B[39m\u001B[33m\"\u001B[39m)\n\u001B[32m    231\u001B[39m     \u001B[38;5;28;01mraise\u001B[39;00m exception_class(message, screen, stacktrace, alert_text)  \u001B[38;5;66;03m# type: ignore[call-arg]  # mypy is not smart enough here\u001B[39;00m\n\u001B[32m--> \u001B[39m\u001B[32m232\u001B[39m \u001B[38;5;28;01mraise\u001B[39;00m exception_class(message, screen, stacktrace)\n",
      "\u001B[31mNoSuchElementException\u001B[39m: Message: no such element: Unable to locate element: {\"method\":\"css selector\",\"selector\":\".uU7dJb\"}\n  (Session info: chrome=136.0.7103.93); For documentation on this error, please visit: https://www.selenium.dev/documentation/webdriver/troubleshooting/errors#no-such-element-exception\nStacktrace:\n0   chromedriver                        0x0000000100f283bc cxxbridge1$str$ptr + 2829900\n1   chromedriver                        0x0000000100f20684 cxxbridge1$str$ptr + 2797844\n2   chromedriver                        0x0000000100a5dfbc cxxbridge1$string$len + 90140\n3   chromedriver                        0x0000000100aa51bc cxxbridge1$string$len + 381468\n4   chromedriver                        0x0000000100ae6044 cxxbridge1$string$len + 647332\n5   chromedriver                        0x0000000100a993f8 cxxbridge1$string$len + 332888\n6   chromedriver                        0x0000000100eec7e0 cxxbridge1$str$ptr + 2585200\n7   chromedriver                        0x0000000100eefab0 cxxbridge1$str$ptr + 2598208\n8   chromedriver                        0x0000000100ecddb4 cxxbridge1$str$ptr + 2459716\n9   chromedriver                        0x0000000100ef0328 cxxbridge1$str$ptr + 2600376\n10  chromedriver                        0x0000000100ebf640 cxxbridge1$str$ptr + 2400464\n11  chromedriver                        0x0000000100f1028c cxxbridge1$str$ptr + 2731292\n12  chromedriver                        0x0000000100f10418 cxxbridge1$str$ptr + 2731688\n13  chromedriver                        0x0000000100f202d0 cxxbridge1$str$ptr + 2796896\n14  libsystem_pthread.dylib             0x00000001897042e4 _pthread_start + 136\n15  libsystem_pthread.dylib             0x00000001896ff0fc thread_start + 8\n"
     ]
    }
   ],
   "execution_count": 58
  },
  {
   "metadata": {
    "ExecuteTime": {
     "end_time": "2025-05-09T01:09:07.644530Z",
     "start_time": "2025-05-09T01:09:05.790035Z"
    }
   },
   "cell_type": "code",
   "source": [
    "url = \"https://www.yes24.com/product/category/bestseller?CategoryNumber=001&sumgb=06\"\n",
    "browser.get(url)"
   ],
   "id": "a78e5ae850413c36",
   "outputs": [],
   "execution_count": 59
  },
  {
   "metadata": {
    "ExecuteTime": {
     "end_time": "2025-05-09T01:09:09.369445Z",
     "start_time": "2025-05-09T01:09:09.282746Z"
    }
   },
   "cell_type": "code",
   "source": [
    "# 1페이지 링크 1개 데이터 수집\n",
    "browser.find_element(By.CLASS_NAME, 'gd_name').get_attribute('href')\n",
    "\n",
    "# 1페이지 링크 데이터 전부 수집\n",
    "# browser.find_element(By.CLASS_NAME, 'gd_name') # element:요소\n",
    "datas = browser.find_elements(By.CLASS_NAME, 'gd_name') # elements:리스트\n",
    "\n",
    "for i in datas:\n",
    "    print(i.get_attribute('href'))\n"
   ],
   "id": "c64dce4338c0d38c",
   "outputs": [
    {
     "name": "stdout",
     "output_type": "stream",
     "text": [
      "https://www.yes24.com/product/goods/145008767\n",
      "https://www.yes24.com/product/goods/145629000\n",
      "https://www.yes24.com/product/goods/145569016\n",
      "https://www.yes24.com/product/goods/145655960\n",
      "https://www.yes24.com/product/goods/144021119\n",
      "https://www.yes24.com/product/goods/145128115\n",
      "https://www.yes24.com/product/goods/13137546\n",
      "https://www.yes24.com/product/goods/125085536\n",
      "https://www.yes24.com/product/goods/144996089\n",
      "https://www.yes24.com/product/goods/136298166\n",
      "https://www.yes24.com/product/goods/142687238\n",
      "https://www.yes24.com/product/goods/8759796\n",
      "https://www.yes24.com/product/goods/142876017\n",
      "https://www.yes24.com/product/goods/143911524\n",
      "https://www.yes24.com/product/goods/145567095\n",
      "https://www.yes24.com/product/goods/140231250\n",
      "https://www.yes24.com/product/goods/134602629\n",
      "https://www.yes24.com/product/goods/140199250\n",
      "https://www.yes24.com/product/goods/15718330\n",
      "https://www.yes24.com/product/goods/140199263\n",
      "https://www.yes24.com/product/goods/126590468\n",
      "https://www.yes24.com/product/goods/125761518\n",
      "https://www.yes24.com/product/goods/116586303\n",
      "https://www.yes24.com/product/goods/142972546\n"
     ]
    }
   ],
   "execution_count": 60
  },
  {
   "metadata": {
    "ExecuteTime": {
     "end_time": "2025-05-09T01:09:27.920254Z",
     "start_time": "2025-05-09T01:09:14.662637Z"
    }
   },
   "cell_type": "code",
   "source": [
    "# 3페이지까지 데이터 전부 수집\n",
    "# https://www.yes24.com/product/category/bestseller?categoryNumber=001&pageNumber=1&pageSize=24\n",
    "# https://www.yes24.com/product/category/bestseller?categoryNumber=001&pageNumber=2&pageSize=24\n",
    "# https://www.yes24.com/product/category/bestseller?categoryNumber=001&pageNumber=3&pageSize=24\n",
    "\n",
    "import time\n",
    "\n",
    "link_list = []\n",
    "\n",
    "for i in range(1, 4) :\n",
    "    print(\"*\" * 10, f\"현재 {i} 페이지 수집 중 입니다.\", \"*\" * 10)\n",
    "    url = f'https://www.yes24.com/product/category/bestseller?categoryNumber={i}&pageNumber=1&pageSize=24'\n",
    "    browser.get(url)\n",
    "\n",
    "    browser.find_element(By.CLASS_NAME, 'gd_name').get_attribute('href')\n",
    "    datas = browser.find_elements(By.CLASS_NAME, 'gd_name')\n",
    "\n",
    "    for i in datas:\n",
    "        link = i.get_attribute('href')\n",
    "        link_list.append(link)\n",
    "\n",
    "    time.sleep(3)\n",
    "\n",
    "# print(link_list)\n",
    "    browser.get(link_list[0])\n"
   ],
   "id": "6a808d2678290c90",
   "outputs": [
    {
     "name": "stdout",
     "output_type": "stream",
     "text": [
      "********** 현재 1 페이지 수집 중 입니다. **********\n",
      "********** 현재 2 페이지 수집 중 입니다. **********\n",
      "********** 현재 3 페이지 수집 중 입니다. **********\n"
     ]
    }
   ],
   "execution_count": 61
  },
  {
   "metadata": {
    "ExecuteTime": {
     "end_time": "2025-05-09T01:08:08.587776Z",
     "start_time": "2025-05-09T01:07:13.253817Z"
    }
   },
   "cell_type": "code",
   "source": "len(link_list)",
   "id": "1e1bc52987ca3b66",
   "outputs": [
    {
     "data": {
      "text/plain": [
       "72"
      ]
     },
     "execution_count": 51,
     "metadata": {},
     "output_type": "execute_result"
    }
   ],
   "execution_count": 51
  },
  {
   "metadata": {
    "ExecuteTime": {
     "end_time": "2025-05-09T01:08:08.580437Z",
     "start_time": "2025-05-09T01:07:44.431107Z"
    }
   },
   "cell_type": "code",
   "source": [
    "# 상세페이지로 이동\n",
    "\n",
    "for link in link_list :\n",
    "     browser.get(link)\n",
    "\n"
   ],
   "id": "2704de06a4118d7e",
   "outputs": [
    {
     "ename": "KeyboardInterrupt",
     "evalue": "",
     "output_type": "error",
     "traceback": [
      "\u001B[31m---------------------------------------------------------------------------\u001B[39m",
      "\u001B[31mKeyboardInterrupt\u001B[39m                         Traceback (most recent call last)",
      "\u001B[36mCell\u001B[39m\u001B[36m \u001B[39m\u001B[32mIn[54]\u001B[39m\u001B[32m, line 4\u001B[39m\n\u001B[32m      1\u001B[39m \u001B[38;5;66;03m# 상세페이지로 이동\u001B[39;00m\n\u001B[32m      3\u001B[39m \u001B[38;5;28;01mfor\u001B[39;00m link \u001B[38;5;129;01min\u001B[39;00m link_list :\n\u001B[32m----> \u001B[39m\u001B[32m4\u001B[39m      \u001B[43mbrowser\u001B[49m\u001B[43m.\u001B[49m\u001B[43mget\u001B[49m\u001B[43m(\u001B[49m\u001B[43mlink\u001B[49m\u001B[43m)\u001B[49m\n",
      "\u001B[36mFile \u001B[39m\u001B[32m~/Desktop/dbsql/db5/.venv/lib/python3.13/site-packages/selenium/webdriver/remote/webdriver.py:473\u001B[39m, in \u001B[36mWebDriver.get\u001B[39m\u001B[34m(self, url)\u001B[39m\n\u001B[32m    455\u001B[39m \u001B[38;5;28;01mdef\u001B[39;00m\u001B[38;5;250m \u001B[39m\u001B[34mget\u001B[39m(\u001B[38;5;28mself\u001B[39m, url: \u001B[38;5;28mstr\u001B[39m) -> \u001B[38;5;28;01mNone\u001B[39;00m:\n\u001B[32m    456\u001B[39m \u001B[38;5;250m    \u001B[39m\u001B[33;03m\"\"\"Navigate the browser to the specified URL in the current window or\u001B[39;00m\n\u001B[32m    457\u001B[39m \u001B[33;03m    tab.\u001B[39;00m\n\u001B[32m    458\u001B[39m \n\u001B[32m   (...)\u001B[39m\u001B[32m    471\u001B[39m \u001B[33;03m    >>> driver.get(\"https://example.com\")\u001B[39;00m\n\u001B[32m    472\u001B[39m \u001B[33;03m    \"\"\"\u001B[39;00m\n\u001B[32m--> \u001B[39m\u001B[32m473\u001B[39m     \u001B[38;5;28;43mself\u001B[39;49m\u001B[43m.\u001B[49m\u001B[43mexecute\u001B[49m\u001B[43m(\u001B[49m\u001B[43mCommand\u001B[49m\u001B[43m.\u001B[49m\u001B[43mGET\u001B[49m\u001B[43m,\u001B[49m\u001B[43m \u001B[49m\u001B[43m{\u001B[49m\u001B[33;43m\"\u001B[39;49m\u001B[33;43murl\u001B[39;49m\u001B[33;43m\"\u001B[39;49m\u001B[43m:\u001B[49m\u001B[43m \u001B[49m\u001B[43murl\u001B[49m\u001B[43m}\u001B[49m\u001B[43m)\u001B[49m\n",
      "\u001B[36mFile \u001B[39m\u001B[32m~/Desktop/dbsql/db5/.venv/lib/python3.13/site-packages/selenium/webdriver/remote/webdriver.py:446\u001B[39m, in \u001B[36mWebDriver.execute\u001B[39m\u001B[34m(self, driver_command, params)\u001B[39m\n\u001B[32m    443\u001B[39m     \u001B[38;5;28;01melif\u001B[39;00m \u001B[33m\"\u001B[39m\u001B[33msessionId\u001B[39m\u001B[33m\"\u001B[39m \u001B[38;5;129;01mnot\u001B[39;00m \u001B[38;5;129;01min\u001B[39;00m params:\n\u001B[32m    444\u001B[39m         params[\u001B[33m\"\u001B[39m\u001B[33msessionId\u001B[39m\u001B[33m\"\u001B[39m] = \u001B[38;5;28mself\u001B[39m.session_id\n\u001B[32m--> \u001B[39m\u001B[32m446\u001B[39m response = \u001B[38;5;28;43mself\u001B[39;49m\u001B[43m.\u001B[49m\u001B[43mcommand_executor\u001B[49m\u001B[43m.\u001B[49m\u001B[43mexecute\u001B[49m\u001B[43m(\u001B[49m\u001B[43mdriver_command\u001B[49m\u001B[43m,\u001B[49m\u001B[43m \u001B[49m\u001B[43mparams\u001B[49m\u001B[43m)\u001B[49m\n\u001B[32m    447\u001B[39m \u001B[38;5;28;01mif\u001B[39;00m response:\n\u001B[32m    448\u001B[39m     \u001B[38;5;28mself\u001B[39m.error_handler.check_response(response)\n",
      "\u001B[36mFile \u001B[39m\u001B[32m~/Desktop/dbsql/db5/.venv/lib/python3.13/site-packages/selenium/webdriver/remote/remote_connection.py:404\u001B[39m, in \u001B[36mRemoteConnection.execute\u001B[39m\u001B[34m(self, command, params)\u001B[39m\n\u001B[32m    402\u001B[39m trimmed = \u001B[38;5;28mself\u001B[39m._trim_large_entries(params)\n\u001B[32m    403\u001B[39m LOGGER.debug(\u001B[33m\"\u001B[39m\u001B[38;5;132;01m%s\u001B[39;00m\u001B[33m \u001B[39m\u001B[38;5;132;01m%s\u001B[39;00m\u001B[33m \u001B[39m\u001B[38;5;132;01m%s\u001B[39;00m\u001B[33m\"\u001B[39m, command_info[\u001B[32m0\u001B[39m], url, \u001B[38;5;28mstr\u001B[39m(trimmed))\n\u001B[32m--> \u001B[39m\u001B[32m404\u001B[39m \u001B[38;5;28;01mreturn\u001B[39;00m \u001B[38;5;28;43mself\u001B[39;49m\u001B[43m.\u001B[49m\u001B[43m_request\u001B[49m\u001B[43m(\u001B[49m\u001B[43mcommand_info\u001B[49m\u001B[43m[\u001B[49m\u001B[32;43m0\u001B[39;49m\u001B[43m]\u001B[49m\u001B[43m,\u001B[49m\u001B[43m \u001B[49m\u001B[43murl\u001B[49m\u001B[43m,\u001B[49m\u001B[43m \u001B[49m\u001B[43mbody\u001B[49m\u001B[43m=\u001B[49m\u001B[43mdata\u001B[49m\u001B[43m)\u001B[49m\n",
      "\u001B[36mFile \u001B[39m\u001B[32m~/Desktop/dbsql/db5/.venv/lib/python3.13/site-packages/selenium/webdriver/remote/remote_connection.py:428\u001B[39m, in \u001B[36mRemoteConnection._request\u001B[39m\u001B[34m(self, method, url, body)\u001B[39m\n\u001B[32m    425\u001B[39m     body = \u001B[38;5;28;01mNone\u001B[39;00m\n\u001B[32m    427\u001B[39m \u001B[38;5;28;01mif\u001B[39;00m \u001B[38;5;28mself\u001B[39m._client_config.keep_alive:\n\u001B[32m--> \u001B[39m\u001B[32m428\u001B[39m     response = \u001B[38;5;28;43mself\u001B[39;49m\u001B[43m.\u001B[49m\u001B[43m_conn\u001B[49m\u001B[43m.\u001B[49m\u001B[43mrequest\u001B[49m\u001B[43m(\u001B[49m\u001B[43mmethod\u001B[49m\u001B[43m,\u001B[49m\u001B[43m \u001B[49m\u001B[43murl\u001B[49m\u001B[43m,\u001B[49m\u001B[43m \u001B[49m\u001B[43mbody\u001B[49m\u001B[43m=\u001B[49m\u001B[43mbody\u001B[49m\u001B[43m,\u001B[49m\u001B[43m \u001B[49m\u001B[43mheaders\u001B[49m\u001B[43m=\u001B[49m\u001B[43mheaders\u001B[49m\u001B[43m,\u001B[49m\u001B[43m \u001B[49m\u001B[43mtimeout\u001B[49m\u001B[43m=\u001B[49m\u001B[38;5;28;43mself\u001B[39;49m\u001B[43m.\u001B[49m\u001B[43m_client_config\u001B[49m\u001B[43m.\u001B[49m\u001B[43mtimeout\u001B[49m\u001B[43m)\u001B[49m\n\u001B[32m    429\u001B[39m     statuscode = response.status\n\u001B[32m    430\u001B[39m \u001B[38;5;28;01melse\u001B[39;00m:\n",
      "\u001B[36mFile \u001B[39m\u001B[32m~/Desktop/dbsql/db5/.venv/lib/python3.13/site-packages/urllib3/_request_methods.py:143\u001B[39m, in \u001B[36mRequestMethods.request\u001B[39m\u001B[34m(self, method, url, body, fields, headers, json, **urlopen_kw)\u001B[39m\n\u001B[32m    135\u001B[39m     \u001B[38;5;28;01mreturn\u001B[39;00m \u001B[38;5;28mself\u001B[39m.request_encode_url(\n\u001B[32m    136\u001B[39m         method,\n\u001B[32m    137\u001B[39m         url,\n\u001B[32m   (...)\u001B[39m\u001B[32m    140\u001B[39m         **urlopen_kw,\n\u001B[32m    141\u001B[39m     )\n\u001B[32m    142\u001B[39m \u001B[38;5;28;01melse\u001B[39;00m:\n\u001B[32m--> \u001B[39m\u001B[32m143\u001B[39m     \u001B[38;5;28;01mreturn\u001B[39;00m \u001B[38;5;28;43mself\u001B[39;49m\u001B[43m.\u001B[49m\u001B[43mrequest_encode_body\u001B[49m\u001B[43m(\u001B[49m\n\u001B[32m    144\u001B[39m \u001B[43m        \u001B[49m\u001B[43mmethod\u001B[49m\u001B[43m,\u001B[49m\u001B[43m \u001B[49m\u001B[43murl\u001B[49m\u001B[43m,\u001B[49m\u001B[43m \u001B[49m\u001B[43mfields\u001B[49m\u001B[43m=\u001B[49m\u001B[43mfields\u001B[49m\u001B[43m,\u001B[49m\u001B[43m \u001B[49m\u001B[43mheaders\u001B[49m\u001B[43m=\u001B[49m\u001B[43mheaders\u001B[49m\u001B[43m,\u001B[49m\u001B[43m \u001B[49m\u001B[43m*\u001B[49m\u001B[43m*\u001B[49m\u001B[43murlopen_kw\u001B[49m\n\u001B[32m    145\u001B[39m \u001B[43m    \u001B[49m\u001B[43m)\u001B[49m\n",
      "\u001B[36mFile \u001B[39m\u001B[32m~/Desktop/dbsql/db5/.venv/lib/python3.13/site-packages/urllib3/_request_methods.py:278\u001B[39m, in \u001B[36mRequestMethods.request_encode_body\u001B[39m\u001B[34m(self, method, url, fields, headers, encode_multipart, multipart_boundary, **urlopen_kw)\u001B[39m\n\u001B[32m    274\u001B[39m     extra_kw[\u001B[33m\"\u001B[39m\u001B[33mheaders\u001B[39m\u001B[33m\"\u001B[39m].setdefault(\u001B[33m\"\u001B[39m\u001B[33mContent-Type\u001B[39m\u001B[33m\"\u001B[39m, content_type)\n\u001B[32m    276\u001B[39m extra_kw.update(urlopen_kw)\n\u001B[32m--> \u001B[39m\u001B[32m278\u001B[39m \u001B[38;5;28;01mreturn\u001B[39;00m \u001B[38;5;28;43mself\u001B[39;49m\u001B[43m.\u001B[49m\u001B[43murlopen\u001B[49m\u001B[43m(\u001B[49m\u001B[43mmethod\u001B[49m\u001B[43m,\u001B[49m\u001B[43m \u001B[49m\u001B[43murl\u001B[49m\u001B[43m,\u001B[49m\u001B[43m \u001B[49m\u001B[43m*\u001B[49m\u001B[43m*\u001B[49m\u001B[43mextra_kw\u001B[49m\u001B[43m)\u001B[49m\n",
      "\u001B[36mFile \u001B[39m\u001B[32m~/Desktop/dbsql/db5/.venv/lib/python3.13/site-packages/urllib3/poolmanager.py:443\u001B[39m, in \u001B[36mPoolManager.urlopen\u001B[39m\u001B[34m(self, method, url, redirect, **kw)\u001B[39m\n\u001B[32m    441\u001B[39m     response = conn.urlopen(method, url, **kw)\n\u001B[32m    442\u001B[39m \u001B[38;5;28;01melse\u001B[39;00m:\n\u001B[32m--> \u001B[39m\u001B[32m443\u001B[39m     response = \u001B[43mconn\u001B[49m\u001B[43m.\u001B[49m\u001B[43murlopen\u001B[49m\u001B[43m(\u001B[49m\u001B[43mmethod\u001B[49m\u001B[43m,\u001B[49m\u001B[43m \u001B[49m\u001B[43mu\u001B[49m\u001B[43m.\u001B[49m\u001B[43mrequest_uri\u001B[49m\u001B[43m,\u001B[49m\u001B[43m \u001B[49m\u001B[43m*\u001B[49m\u001B[43m*\u001B[49m\u001B[43mkw\u001B[49m\u001B[43m)\u001B[49m\n\u001B[32m    445\u001B[39m redirect_location = redirect \u001B[38;5;129;01mand\u001B[39;00m response.get_redirect_location()\n\u001B[32m    446\u001B[39m \u001B[38;5;28;01mif\u001B[39;00m \u001B[38;5;129;01mnot\u001B[39;00m redirect_location:\n",
      "\u001B[36mFile \u001B[39m\u001B[32m~/Desktop/dbsql/db5/.venv/lib/python3.13/site-packages/urllib3/connectionpool.py:787\u001B[39m, in \u001B[36mHTTPConnectionPool.urlopen\u001B[39m\u001B[34m(self, method, url, body, headers, retries, redirect, assert_same_host, timeout, pool_timeout, release_conn, chunked, body_pos, preload_content, decode_content, **response_kw)\u001B[39m\n\u001B[32m    784\u001B[39m response_conn = conn \u001B[38;5;28;01mif\u001B[39;00m \u001B[38;5;129;01mnot\u001B[39;00m release_conn \u001B[38;5;28;01melse\u001B[39;00m \u001B[38;5;28;01mNone\u001B[39;00m\n\u001B[32m    786\u001B[39m \u001B[38;5;66;03m# Make the request on the HTTPConnection object\u001B[39;00m\n\u001B[32m--> \u001B[39m\u001B[32m787\u001B[39m response = \u001B[38;5;28;43mself\u001B[39;49m\u001B[43m.\u001B[49m\u001B[43m_make_request\u001B[49m\u001B[43m(\u001B[49m\n\u001B[32m    788\u001B[39m \u001B[43m    \u001B[49m\u001B[43mconn\u001B[49m\u001B[43m,\u001B[49m\n\u001B[32m    789\u001B[39m \u001B[43m    \u001B[49m\u001B[43mmethod\u001B[49m\u001B[43m,\u001B[49m\n\u001B[32m    790\u001B[39m \u001B[43m    \u001B[49m\u001B[43murl\u001B[49m\u001B[43m,\u001B[49m\n\u001B[32m    791\u001B[39m \u001B[43m    \u001B[49m\u001B[43mtimeout\u001B[49m\u001B[43m=\u001B[49m\u001B[43mtimeout_obj\u001B[49m\u001B[43m,\u001B[49m\n\u001B[32m    792\u001B[39m \u001B[43m    \u001B[49m\u001B[43mbody\u001B[49m\u001B[43m=\u001B[49m\u001B[43mbody\u001B[49m\u001B[43m,\u001B[49m\n\u001B[32m    793\u001B[39m \u001B[43m    \u001B[49m\u001B[43mheaders\u001B[49m\u001B[43m=\u001B[49m\u001B[43mheaders\u001B[49m\u001B[43m,\u001B[49m\n\u001B[32m    794\u001B[39m \u001B[43m    \u001B[49m\u001B[43mchunked\u001B[49m\u001B[43m=\u001B[49m\u001B[43mchunked\u001B[49m\u001B[43m,\u001B[49m\n\u001B[32m    795\u001B[39m \u001B[43m    \u001B[49m\u001B[43mretries\u001B[49m\u001B[43m=\u001B[49m\u001B[43mretries\u001B[49m\u001B[43m,\u001B[49m\n\u001B[32m    796\u001B[39m \u001B[43m    \u001B[49m\u001B[43mresponse_conn\u001B[49m\u001B[43m=\u001B[49m\u001B[43mresponse_conn\u001B[49m\u001B[43m,\u001B[49m\n\u001B[32m    797\u001B[39m \u001B[43m    \u001B[49m\u001B[43mpreload_content\u001B[49m\u001B[43m=\u001B[49m\u001B[43mpreload_content\u001B[49m\u001B[43m,\u001B[49m\n\u001B[32m    798\u001B[39m \u001B[43m    \u001B[49m\u001B[43mdecode_content\u001B[49m\u001B[43m=\u001B[49m\u001B[43mdecode_content\u001B[49m\u001B[43m,\u001B[49m\n\u001B[32m    799\u001B[39m \u001B[43m    \u001B[49m\u001B[43m*\u001B[49m\u001B[43m*\u001B[49m\u001B[43mresponse_kw\u001B[49m\u001B[43m,\u001B[49m\n\u001B[32m    800\u001B[39m \u001B[43m\u001B[49m\u001B[43m)\u001B[49m\n\u001B[32m    802\u001B[39m \u001B[38;5;66;03m# Everything went great!\u001B[39;00m\n\u001B[32m    803\u001B[39m clean_exit = \u001B[38;5;28;01mTrue\u001B[39;00m\n",
      "\u001B[36mFile \u001B[39m\u001B[32m~/Desktop/dbsql/db5/.venv/lib/python3.13/site-packages/urllib3/connectionpool.py:534\u001B[39m, in \u001B[36mHTTPConnectionPool._make_request\u001B[39m\u001B[34m(self, conn, method, url, body, headers, retries, timeout, chunked, response_conn, preload_content, decode_content, enforce_content_length)\u001B[39m\n\u001B[32m    532\u001B[39m \u001B[38;5;66;03m# Receive the response from the server\u001B[39;00m\n\u001B[32m    533\u001B[39m \u001B[38;5;28;01mtry\u001B[39;00m:\n\u001B[32m--> \u001B[39m\u001B[32m534\u001B[39m     response = \u001B[43mconn\u001B[49m\u001B[43m.\u001B[49m\u001B[43mgetresponse\u001B[49m\u001B[43m(\u001B[49m\u001B[43m)\u001B[49m\n\u001B[32m    535\u001B[39m \u001B[38;5;28;01mexcept\u001B[39;00m (BaseSSLError, \u001B[38;5;167;01mOSError\u001B[39;00m) \u001B[38;5;28;01mas\u001B[39;00m e:\n\u001B[32m    536\u001B[39m     \u001B[38;5;28mself\u001B[39m._raise_timeout(err=e, url=url, timeout_value=read_timeout)\n",
      "\u001B[36mFile \u001B[39m\u001B[32m~/Desktop/dbsql/db5/.venv/lib/python3.13/site-packages/urllib3/connection.py:516\u001B[39m, in \u001B[36mHTTPConnection.getresponse\u001B[39m\u001B[34m(self)\u001B[39m\n\u001B[32m    513\u001B[39m _shutdown = \u001B[38;5;28mgetattr\u001B[39m(\u001B[38;5;28mself\u001B[39m.sock, \u001B[33m\"\u001B[39m\u001B[33mshutdown\u001B[39m\u001B[33m\"\u001B[39m, \u001B[38;5;28;01mNone\u001B[39;00m)\n\u001B[32m    515\u001B[39m \u001B[38;5;66;03m# Get the response from http.client.HTTPConnection\u001B[39;00m\n\u001B[32m--> \u001B[39m\u001B[32m516\u001B[39m httplib_response = \u001B[38;5;28;43msuper\u001B[39;49m\u001B[43m(\u001B[49m\u001B[43m)\u001B[49m\u001B[43m.\u001B[49m\u001B[43mgetresponse\u001B[49m\u001B[43m(\u001B[49m\u001B[43m)\u001B[49m\n\u001B[32m    518\u001B[39m \u001B[38;5;28;01mtry\u001B[39;00m:\n\u001B[32m    519\u001B[39m     assert_header_parsing(httplib_response.msg)\n",
      "\u001B[36mFile \u001B[39m\u001B[32m/opt/homebrew/Cellar/python@3.13/3.13.3/Frameworks/Python.framework/Versions/3.13/lib/python3.13/http/client.py:1430\u001B[39m, in \u001B[36mHTTPConnection.getresponse\u001B[39m\u001B[34m(self)\u001B[39m\n\u001B[32m   1428\u001B[39m \u001B[38;5;28;01mtry\u001B[39;00m:\n\u001B[32m   1429\u001B[39m     \u001B[38;5;28;01mtry\u001B[39;00m:\n\u001B[32m-> \u001B[39m\u001B[32m1430\u001B[39m         \u001B[43mresponse\u001B[49m\u001B[43m.\u001B[49m\u001B[43mbegin\u001B[49m\u001B[43m(\u001B[49m\u001B[43m)\u001B[49m\n\u001B[32m   1431\u001B[39m     \u001B[38;5;28;01mexcept\u001B[39;00m \u001B[38;5;167;01mConnectionError\u001B[39;00m:\n\u001B[32m   1432\u001B[39m         \u001B[38;5;28mself\u001B[39m.close()\n",
      "\u001B[36mFile \u001B[39m\u001B[32m/opt/homebrew/Cellar/python@3.13/3.13.3/Frameworks/Python.framework/Versions/3.13/lib/python3.13/http/client.py:331\u001B[39m, in \u001B[36mHTTPResponse.begin\u001B[39m\u001B[34m(self)\u001B[39m\n\u001B[32m    329\u001B[39m \u001B[38;5;66;03m# read until we get a non-100 response\u001B[39;00m\n\u001B[32m    330\u001B[39m \u001B[38;5;28;01mwhile\u001B[39;00m \u001B[38;5;28;01mTrue\u001B[39;00m:\n\u001B[32m--> \u001B[39m\u001B[32m331\u001B[39m     version, status, reason = \u001B[38;5;28;43mself\u001B[39;49m\u001B[43m.\u001B[49m\u001B[43m_read_status\u001B[49m\u001B[43m(\u001B[49m\u001B[43m)\u001B[49m\n\u001B[32m    332\u001B[39m     \u001B[38;5;28;01mif\u001B[39;00m status != CONTINUE:\n\u001B[32m    333\u001B[39m         \u001B[38;5;28;01mbreak\u001B[39;00m\n",
      "\u001B[36mFile \u001B[39m\u001B[32m/opt/homebrew/Cellar/python@3.13/3.13.3/Frameworks/Python.framework/Versions/3.13/lib/python3.13/http/client.py:292\u001B[39m, in \u001B[36mHTTPResponse._read_status\u001B[39m\u001B[34m(self)\u001B[39m\n\u001B[32m    291\u001B[39m \u001B[38;5;28;01mdef\u001B[39;00m\u001B[38;5;250m \u001B[39m\u001B[34m_read_status\u001B[39m(\u001B[38;5;28mself\u001B[39m):\n\u001B[32m--> \u001B[39m\u001B[32m292\u001B[39m     line = \u001B[38;5;28mstr\u001B[39m(\u001B[38;5;28;43mself\u001B[39;49m\u001B[43m.\u001B[49m\u001B[43mfp\u001B[49m\u001B[43m.\u001B[49m\u001B[43mreadline\u001B[49m\u001B[43m(\u001B[49m\u001B[43m_MAXLINE\u001B[49m\u001B[43m \u001B[49m\u001B[43m+\u001B[49m\u001B[43m \u001B[49m\u001B[32;43m1\u001B[39;49m\u001B[43m)\u001B[49m, \u001B[33m\"\u001B[39m\u001B[33miso-8859-1\u001B[39m\u001B[33m\"\u001B[39m)\n\u001B[32m    293\u001B[39m     \u001B[38;5;28;01mif\u001B[39;00m \u001B[38;5;28mlen\u001B[39m(line) > _MAXLINE:\n\u001B[32m    294\u001B[39m         \u001B[38;5;28;01mraise\u001B[39;00m LineTooLong(\u001B[33m\"\u001B[39m\u001B[33mstatus line\u001B[39m\u001B[33m\"\u001B[39m)\n",
      "\u001B[36mFile \u001B[39m\u001B[32m/opt/homebrew/Cellar/python@3.13/3.13.3/Frameworks/Python.framework/Versions/3.13/lib/python3.13/socket.py:719\u001B[39m, in \u001B[36mSocketIO.readinto\u001B[39m\u001B[34m(self, b)\u001B[39m\n\u001B[32m    717\u001B[39m     \u001B[38;5;28;01mraise\u001B[39;00m \u001B[38;5;167;01mOSError\u001B[39;00m(\u001B[33m\"\u001B[39m\u001B[33mcannot read from timed out object\u001B[39m\u001B[33m\"\u001B[39m)\n\u001B[32m    718\u001B[39m \u001B[38;5;28;01mtry\u001B[39;00m:\n\u001B[32m--> \u001B[39m\u001B[32m719\u001B[39m     \u001B[38;5;28;01mreturn\u001B[39;00m \u001B[38;5;28;43mself\u001B[39;49m\u001B[43m.\u001B[49m\u001B[43m_sock\u001B[49m\u001B[43m.\u001B[49m\u001B[43mrecv_into\u001B[49m\u001B[43m(\u001B[49m\u001B[43mb\u001B[49m\u001B[43m)\u001B[49m\n\u001B[32m    720\u001B[39m \u001B[38;5;28;01mexcept\u001B[39;00m timeout:\n\u001B[32m    721\u001B[39m     \u001B[38;5;28mself\u001B[39m._timeout_occurred = \u001B[38;5;28;01mTrue\u001B[39;00m\n",
      "\u001B[31mKeyboardInterrupt\u001B[39m: "
     ]
    }
   ],
   "execution_count": 54
  },
  {
   "metadata": {},
   "cell_type": "markdown",
   "source": "",
   "id": "cf33550d01f5bdcd"
  },
  {
   "metadata": {
    "ExecuteTime": {
     "end_time": "2025-05-09T01:28:18.847145Z",
     "start_time": "2025-05-09T01:28:17.092633Z"
    }
   },
   "cell_type": "code",
   "source": [
    "browser.get(link_list[0])\n",
    "\n",
    "title = browser.find_element(By.CLASS_NAME, 'gd_name').text\n",
    "\n",
    "author = browser.find_element(By.CLASS_NAME, 'gd_auth').text\n",
    "\n",
    "company = browser.find_element(By.CLASS_NAME, 'gd_pub').text\n",
    "\n",
    "publishing = browser.find_element(By.CLASS_NAME, 'gd_date').text\n",
    "\n",
    "rating = browser.find_element(By.CLASS_NAME, 'yes_b').text\n",
    "\n",
    "reviews = browser.find_element(By.CLASS_NAME, 'txC_blue').text\n",
    "\n",
    "sales = browser.find_element(By.CLASS_NAME, 'gd_sellNum').text.split(\" \")[2]\n",
    "\n",
    "price = browser.find_element(By.CLASS_NAME, 'yes_m').text[:-1]\n",
    "\n",
    "ranking = browser.find_element(By.CLASS_NAME, 'gd_best').text.split(\" | \")[0]\n",
    "\n",
    "ranking_weeks = browser.find_element(By.CLASS_NAME, 'gd_best').text.split(\" | \")[1]\n",
    "\n",
    "ranking_weeks"
   ],
   "id": "f315cccbfad835b6",
   "outputs": [
    {
     "data": {
      "text/plain": [
       "'국내도서 1위 1주'"
      ]
     },
     "execution_count": 68,
     "metadata": {},
     "output_type": "execute_result"
    }
   ],
   "execution_count": 68
  },
  {
   "metadata": {
    "ExecuteTime": {
     "end_time": "2025-05-09T01:08:08.588664Z",
     "start_time": "2025-05-08T02:17:00.364697Z"
    }
   },
   "cell_type": "code",
   "source": "# 상세페이지 이동 후 크롤링\n",
   "id": "1aa9aaa921319d11",
   "outputs": [],
   "execution_count": null
  },
  {
   "metadata": {},
   "cell_type": "code",
   "outputs": [],
   "execution_count": null,
   "source": "",
   "id": "a7ef6f1ec8ebce0c"
  }
 ],
 "metadata": {},
 "nbformat": 4,
 "nbformat_minor": 5
}
