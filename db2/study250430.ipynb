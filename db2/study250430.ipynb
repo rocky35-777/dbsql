result = [x * x for x in range(1, 21) if x % 3 == 0]
print(result)

squares = {x * x for x in range(5)}
print(squares)

