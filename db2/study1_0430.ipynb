{
 "cells": [
  {
   "metadata": {
    "ExecuteTime": {
     "end_time": "2025-04-30T11:43:09.849838Z",
     "start_time": "2025-04-30T11:43:09.846235Z"
    }
   },
   "cell_type": "code",
   "source": [
    "result = [x * x for x in range(1, 21) if x % 3 == 0]\n",
    "print(result)\n",
    "\n",
    "squares = {x * x for x in range(5)}\n",
    "print(squares)\n"
   ],
   "id": "c9d231c0001fc3f3",
   "outputs": [
    {
     "name": "stdout",
     "output_type": "stream",
     "text": [
      "[9, 36, 81, 144, 225, 324]\n",
      "{0, 1, 4, 9, 16}\n"
     ]
    }
   ],
   "execution_count": 1
  },
  {
   "metadata": {
    "ExecuteTime": {
     "end_time": "2025-04-30T11:48:03.774746Z",
     "start_time": "2025-04-30T11:48:03.770741Z"
    }
   },
   "cell_type": "code",
   "source": [
    "# 딕셔너리 컴프리헨션\n",
    "\n",
    "original = {\"a\": 1, \"b\": 2, \"c\": 3}\n",
    "double = {k:v * 2 for k, v in original.items()}\n",
    "print(double)"
   ],
   "id": "2a320a908c51b530",
   "outputs": [
    {
     "name": "stdout",
     "output_type": "stream",
     "text": [
      "{'a': 2, 'b': 4, 'c': 6}\n"
     ]
    }
   ],
   "execution_count": 2
  },
  {
   "metadata": {
    "ExecuteTime": {
     "end_time": "2025-04-30T11:52:40.446523Z",
     "start_time": "2025-04-30T11:52:40.442783Z"
    }
   },
   "cell_type": "code",
   "source": [
    "result = {\n",
    "    x: \"FizzBuzz\" if x % 15 == 0\n",
    "    else \"Fizz\" if x % 3 == 0\n",
    "    else \"Buzz\" if x % 5 == 0\n",
    "    else str(x)\n",
    "    for x in range(1, 21)\n",
    "}\n",
    "\n",
    "print(result)\n"
   ],
   "id": "57ea38e6979d3b71",
   "outputs": [
    {
     "name": "stdout",
     "output_type": "stream",
     "text": [
      "{1: '1', 2: '2', 3: 'Fizz', 4: '4', 5: 'Buzz', 6: 'Fizz', 7: '7', 8: '8', 9: 'Fizz', 10: 'Buzz', 11: '11', 12: 'Fizz', 13: '13', 14: '14', 15: 'FizzBuzz', 16: '16', 17: '17', 18: 'Fizz', 19: '19', 20: 'Buzz'}\n"
     ]
    }
   ],
   "execution_count": 4
  },
  {
   "metadata": {
    "ExecuteTime": {
     "end_time": "2025-04-30T12:00:46.029908Z",
     "start_time": "2025-04-30T12:00:46.025477Z"
    }
   },
   "cell_type": "code",
   "source": [
    "# enumerate()\n",
    "\n",
    "fruits = ['apple', 'banana', 'orange', 'strawberry']\n",
    "\n",
    "for index, fruit in enumerate(fruits):\n",
    "    print(index, fruit)\n",
    "\n",
    "for index, fruit in enumerate(fruits, start=1):\n",
    "    print(index, fruit)"
   ],
   "id": "6867808d0c41433a",
   "outputs": [
    {
     "name": "stdout",
     "output_type": "stream",
     "text": [
      "0 apple\n",
      "1 banana\n",
      "2 orange\n",
      "3 strawberry\n",
      "1 apple\n",
      "2 banana\n",
      "3 orange\n",
      "4 strawberry\n"
     ]
    }
   ],
   "execution_count": 6
  },
  {
   "metadata": {},
   "cell_type": "markdown",
   "source": "“파이썬에서 bool(0.0)은 False고 bool(float('nan'))은 왜 True인가요? 둘 다 ‘비어 있음’을 표현한다고 생각할 수 있는데...”",
   "id": "870aa186ee8e6a6e"
  },
  {
   "metadata": {},
   "cell_type": "code",
   "outputs": [],
   "execution_count": null,
   "source": [
    "name_score = {\n",
    "    \"Alice\": 88,\n",
    "    \"Bob\": \"None\",\n",
    "    \"Charlie\": 70,\n",
    "    \"David\" : 45,\n",
    "    \"Eve\" : \"None\",\n",
    "    \"Frank\": 91,\n",
    "    \"Grace\": 82,\n",
    "    \"Helen\": \"None\",\n",
    "    \"Ian\": 95,\n",
    "    \"Julia\": 68\n",
    "}\n",
    "\n",
    "grade_map = [n: s]"
   ],
   "id": "6ecacba07e1e6edf"
  },
  {
   "metadata": {
    "ExecuteTime": {
     "end_time": "2025-04-30T12:59:47.326092Z",
     "start_time": "2025-04-30T12:59:47.306146Z"
    }
   },
   "cell_type": "code",
   "source": [
    "name_list = [\"Alice\", \"Bob\", \"Charlie\", \"David\", \"Eve\",\"Frank\", \"Grace\", \"Helen\", \"Ian\", \"Julia\"]\n",
    "\n",
    "score_list = [88, None, 70, 45, None, 91, 82, None, 95, 68]\n",
    "\n",
    "grade_map = {\n",
    "    name: (\n",
    "        \"A\" if score >= 90 else\n",
    "        \"A\" if score >= 80 else\n",
    "        \"A\" if score >= 70 else\n",
    "        \"D\"\n",
    "    )\n",
    "    for name, score in zip(name_score, score_list)\n",
    "    if score is not None\n",
    "}\n",
    "\n",
    "print(grade_map)\n"
   ],
   "id": "e0b9a56cebd8d053",
   "outputs": [
    {
     "ename": "NameError",
     "evalue": "name 'name_score' is not defined",
     "output_type": "error",
     "traceback": [
      "\u001B[31m---------------------------------------------------------------------------\u001B[39m",
      "\u001B[31mNameError\u001B[39m                                 Traceback (most recent call last)",
      "\u001B[36mCell\u001B[39m\u001B[36m \u001B[39m\u001B[32mIn[11]\u001B[39m\u001B[32m, line 12\u001B[39m\n\u001B[32m      1\u001B[39m name_list = [\u001B[33m\"\u001B[39m\u001B[33mAlice\u001B[39m\u001B[33m\"\u001B[39m, \u001B[33m\"\u001B[39m\u001B[33mBob\u001B[39m\u001B[33m\"\u001B[39m, \u001B[33m\"\u001B[39m\u001B[33mCharlie\u001B[39m\u001B[33m\"\u001B[39m, \u001B[33m\"\u001B[39m\u001B[33mDavid\u001B[39m\u001B[33m\"\u001B[39m, \u001B[33m\"\u001B[39m\u001B[33mEve\u001B[39m\u001B[33m\"\u001B[39m,\u001B[33m\"\u001B[39m\u001B[33mFrank\u001B[39m\u001B[33m\"\u001B[39m, \u001B[33m\"\u001B[39m\u001B[33mGrace\u001B[39m\u001B[33m\"\u001B[39m, \u001B[33m\"\u001B[39m\u001B[33mHelen\u001B[39m\u001B[33m\"\u001B[39m, \u001B[33m\"\u001B[39m\u001B[33mIan\u001B[39m\u001B[33m\"\u001B[39m, \u001B[33m\"\u001B[39m\u001B[33mJulia\u001B[39m\u001B[33m\"\u001B[39m]\n\u001B[32m      3\u001B[39m score_list = [\u001B[32m88\u001B[39m, \u001B[38;5;28;01mNone\u001B[39;00m, \u001B[32m70\u001B[39m, \u001B[32m45\u001B[39m, \u001B[38;5;28;01mNone\u001B[39;00m, \u001B[32m91\u001B[39m, \u001B[32m82\u001B[39m, \u001B[38;5;28;01mNone\u001B[39;00m, \u001B[32m95\u001B[39m, \u001B[32m68\u001B[39m]\n\u001B[32m      5\u001B[39m grade_map = {\n\u001B[32m      6\u001B[39m     name: (\n\u001B[32m      7\u001B[39m         \u001B[33m\"\u001B[39m\u001B[33mA\u001B[39m\u001B[33m\"\u001B[39m \u001B[38;5;28;01mif\u001B[39;00m score >= \u001B[32m90\u001B[39m \u001B[38;5;28;01melse\u001B[39;00m\n\u001B[32m      8\u001B[39m         \u001B[33m\"\u001B[39m\u001B[33mA\u001B[39m\u001B[33m\"\u001B[39m \u001B[38;5;28;01mif\u001B[39;00m score >= \u001B[32m80\u001B[39m \u001B[38;5;28;01melse\u001B[39;00m\n\u001B[32m      9\u001B[39m         \u001B[33m\"\u001B[39m\u001B[33mA\u001B[39m\u001B[33m\"\u001B[39m \u001B[38;5;28;01mif\u001B[39;00m score >= \u001B[32m70\u001B[39m \u001B[38;5;28;01melse\u001B[39;00m\n\u001B[32m     10\u001B[39m         \u001B[33m\"\u001B[39m\u001B[33mD\u001B[39m\u001B[33m\"\u001B[39m\n\u001B[32m     11\u001B[39m     )\n\u001B[32m---> \u001B[39m\u001B[32m12\u001B[39m     \u001B[38;5;28;01mfor\u001B[39;00m name, score \u001B[38;5;129;01min\u001B[39;00m \u001B[38;5;28mzip\u001B[39m(\u001B[43mname_score\u001B[49m, score_list)\n\u001B[32m     13\u001B[39m     \u001B[38;5;28;01mif\u001B[39;00m score \u001B[38;5;129;01mis\u001B[39;00m \u001B[38;5;129;01mnot\u001B[39;00m \u001B[38;5;28;01mNone\u001B[39;00m\n\u001B[32m     14\u001B[39m }\n\u001B[32m     16\u001B[39m \u001B[38;5;28mprint\u001B[39m(grade_map)\n",
      "\u001B[31mNameError\u001B[39m: name 'name_score' is not defined"
     ]
    }
   ],
   "execution_count": 11
  },
  {
   "metadata": {},
   "cell_type": "code",
   "outputs": [],
   "execution_count": null,
   "source": "",
   "id": "605af3e4cfe1d50a"
  }
 ],
 "metadata": {},
 "nbformat": 4,
 "nbformat_minor": 5
}
